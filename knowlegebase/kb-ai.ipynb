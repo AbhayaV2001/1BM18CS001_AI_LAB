{
 "cells": [
  {
   "cell_type": "code",
   "execution_count": 1,
   "metadata": {
    "_cell_guid": "79c7e3d0-c299-4dcb-8224-4455121ee9b0",
    "_uuid": "d629ff2d2480ee46fbb7e2d37f6b5fab8052498a",
    "execution": {
     "iopub.execute_input": "2020-11-17T11:05:44.582400Z",
     "iopub.status.busy": "2020-11-17T11:05:44.581231Z",
     "iopub.status.idle": "2020-11-17T11:05:44.585310Z",
     "shell.execute_reply": "2020-11-17T11:05:44.584421Z"
    },
    "papermill": {
     "duration": 0.021697,
     "end_time": "2020-11-17T11:05:44.585469",
     "exception": false,
     "start_time": "2020-11-17T11:05:44.563772",
     "status": "completed"
    },
    "tags": []
   },
   "outputs": [],
   "source": [
    "combinations=[(True,True, True),(True,True,False),(True,False,True),(True,False, False),(False,True, True),(False,True, False),(False, False,True),(False,False, False)]#expand this set for more variables\n",
    "variable={'P':0,'Q':1, 'R':2}#expand this set matching combinations indices for variables\n",
    "#set of rules\n",
    "kb=''#should be a cnf \n",
    "q=''#should be a cnf\n",
    "priority={'~':3,'v':1,'^':2}"
   ]
  },
  {
   "cell_type": "code",
   "execution_count": 2,
   "metadata": {
    "execution": {
     "iopub.execute_input": "2020-11-17T11:05:44.609670Z",
     "iopub.status.busy": "2020-11-17T11:05:44.608661Z",
     "iopub.status.idle": "2020-11-17T11:05:44.611207Z",
     "shell.execute_reply": "2020-11-17T11:05:44.611746Z"
    },
    "papermill": {
     "duration": 0.016426,
     "end_time": "2020-11-17T11:05:44.611912",
     "exception": false,
     "start_time": "2020-11-17T11:05:44.595486",
     "status": "completed"
    },
    "tags": []
   },
   "outputs": [],
   "source": [
    "def input_rules():\n",
    "    global kb,q\n",
    "    kb=input(\"Enter rule : \")\n",
    "    q=input(\"Enter the Query : \")"
   ]
  },
  {
   "cell_type": "code",
   "execution_count": 3,
   "metadata": {
    "execution": {
     "iopub.execute_input": "2020-11-17T11:05:44.637129Z",
     "iopub.status.busy": "2020-11-17T11:05:44.636020Z",
     "iopub.status.idle": "2020-11-17T11:05:44.639455Z",
     "shell.execute_reply": "2020-11-17T11:05:44.638626Z"
    },
    "papermill": {
     "duration": 0.020427,
     "end_time": "2020-11-17T11:05:44.639588",
     "exception": false,
     "start_time": "2020-11-17T11:05:44.619161",
     "status": "completed"
    },
    "tags": []
   },
   "outputs": [],
   "source": [
    "def entailment():\n",
    "    global kb,q\n",
    "    print(\"\"*10+\"Truth Table Reference\"+\"\"*10)\n",
    "    print(\"P  \",\"  Q  \",\"   R   \",\"  KB  \",' Alpha')\n",
    "    print(\"*\"*20)\n",
    "    for comb in combinations:\n",
    "        s=evaluatePostfix(toPostfix(kb),comb)\n",
    "        f=evaluatePostfix(toPostfix(q),comb)\n",
    "        a,b,c=comb\n",
    "        print(a,b,c,s,f)\n",
    "        print(\"-\"*10)\n",
    "        if s and not f:\n",
    "            return False\n",
    "    return True"
   ]
  },
  {
   "cell_type": "code",
   "execution_count": 4,
   "metadata": {
    "execution": {
     "iopub.execute_input": "2020-11-17T11:05:44.665047Z",
     "iopub.status.busy": "2020-11-17T11:05:44.663820Z",
     "iopub.status.idle": "2020-11-17T11:05:44.667429Z",
     "shell.execute_reply": "2020-11-17T11:05:44.666673Z"
    },
    "papermill": {
     "duration": 0.020422,
     "end_time": "2020-11-17T11:05:44.667567",
     "exception": false,
     "start_time": "2020-11-17T11:05:44.647145",
     "status": "completed"
    },
    "tags": []
   },
   "outputs": [],
   "source": [
    "def isOperand(c):\n",
    "    return c.isalpha() and c!='v'\n",
    "def isLeftParenthesis(c):\n",
    "    return c=='('\n",
    "def isRightParenthesis(c):\n",
    "    return c==')'\n",
    "def isEmpty(stack):\n",
    "    return len(stack)==0\n",
    "def peek(stack):\n",
    "    return stack[-1]\n",
    "def hasLessOrEqualPriority(c1,c2):\n",
    "    try: return priority[c1]<=priority[c2]\n",
    "    except KeyError : return False"
   ]
  },
  {
   "cell_type": "code",
   "execution_count": 5,
   "metadata": {
    "execution": {
     "iopub.execute_input": "2020-11-17T11:05:44.695257Z",
     "iopub.status.busy": "2020-11-17T11:05:44.694366Z",
     "iopub.status.idle": "2020-11-17T11:05:44.697509Z",
     "shell.execute_reply": "2020-11-17T11:05:44.698086Z"
    },
    "papermill": {
     "duration": 0.023007,
     "end_time": "2020-11-17T11:05:44.698272",
     "exception": false,
     "start_time": "2020-11-17T11:05:44.675265",
     "status": "completed"
    },
    "tags": []
   },
   "outputs": [],
   "source": [
    "def toPostfix(infix):\n",
    "    stack=[]\n",
    "    postfix=''\n",
    "    for c in infix:\n",
    "        if isOperand(c):\n",
    "            postfix+=c\n",
    "        else:\n",
    "            if isLeftParenthesis(c):\n",
    "                stack.append(c)\n",
    "            elif isRightParenthesis(c):\n",
    "                operator =stack.pop()\n",
    "                while (not isLeftParenthesis(operator)):\n",
    "                    postfix+=operator\n",
    "                    operator=stack.pop()\n",
    "                    \n",
    "            else:\n",
    "                while (not isEmpty(stack)) and hasLessOrEqualPriority(c,peek(stack)):\n",
    "                    postfix+=stack.pop()\n",
    "                stack.append(c)\n",
    "    while (not isEmpty(stack)):\n",
    "        postfix +=stack.pop()\n",
    "    return postfix"
   ]
  },
  {
   "cell_type": "code",
   "execution_count": 6,
   "metadata": {
    "execution": {
     "iopub.execute_input": "2020-11-17T11:05:44.723896Z",
     "iopub.status.busy": "2020-11-17T11:05:44.723090Z",
     "iopub.status.idle": "2020-11-17T11:05:44.726970Z",
     "shell.execute_reply": "2020-11-17T11:05:44.726204Z"
    },
    "papermill": {
     "duration": 0.020871,
     "end_time": "2020-11-17T11:05:44.727104",
     "exception": false,
     "start_time": "2020-11-17T11:05:44.706233",
     "status": "completed"
    },
    "tags": []
   },
   "outputs": [],
   "source": [
    "def evaluatePostfix(exp,comb):\n",
    "    stack=[]\n",
    "    for i in exp:\n",
    "        if isOperand(i):\n",
    "            stack.append(comb[variable[i]])\n",
    "        elif i==\"~\":\n",
    "            val1=stack.pop()\n",
    "            stack.append(not val1)\n",
    "        else:\n",
    "            val1=stack.pop()\n",
    "            val2=stack.pop()\n",
    "            stack.append(_eval(i,val2,val1))\n",
    "    return stack.pop()"
   ]
  },
  {
   "cell_type": "code",
   "execution_count": 7,
   "metadata": {
    "execution": {
     "iopub.execute_input": "2020-11-17T11:05:44.750976Z",
     "iopub.status.busy": "2020-11-17T11:05:44.750045Z",
     "iopub.status.idle": "2020-11-17T11:05:44.798691Z",
     "shell.execute_reply": "2020-11-17T11:05:44.797901Z"
    },
    "papermill": {
     "duration": 0.06336,
     "end_time": "2020-11-17T11:05:44.798851",
     "exception": false,
     "start_time": "2020-11-17T11:05:44.735491",
     "status": "completed"
    },
    "tags": []
   },
   "outputs": [
    {
     "ename": "StdinNotImplementedError",
     "evalue": "raw_input was called, but this frontend does not support input requests.",
     "output_type": "error",
     "traceback": [
      "\u001b[0;31m---------------------------------------------------------------------------\u001b[0m",
      "\u001b[0;31mStdinNotImplementedError\u001b[0m                  Traceback (most recent call last)",
      "\u001b[0;32m<ipython-input-7-ca395625f552>\u001b[0m in \u001b[0;36m<module>\u001b[0;34m\u001b[0m\n\u001b[1;32m      2\u001b[0m     \u001b[0;32mif\u001b[0m \u001b[0mi\u001b[0m\u001b[0;34m==\u001b[0m\u001b[0;34m'^'\u001b[0m\u001b[0;34m:\u001b[0m \u001b[0;32mreturn\u001b[0m \u001b[0mval2\u001b[0m \u001b[0;32mand\u001b[0m \u001b[0mval1\u001b[0m\u001b[0;34m\u001b[0m\u001b[0;34m\u001b[0m\u001b[0m\n\u001b[1;32m      3\u001b[0m     \u001b[0;32mreturn\u001b[0m \u001b[0mval2\u001b[0m \u001b[0;32mor\u001b[0m \u001b[0mval1\u001b[0m\u001b[0;34m\u001b[0m\u001b[0;34m\u001b[0m\u001b[0m\n\u001b[0;32m----> 4\u001b[0;31m \u001b[0minput_rules\u001b[0m\u001b[0;34m(\u001b[0m\u001b[0;34m)\u001b[0m\u001b[0;34m\u001b[0m\u001b[0;34m\u001b[0m\u001b[0m\n\u001b[0m\u001b[1;32m      5\u001b[0m \u001b[0mans\u001b[0m\u001b[0;34m=\u001b[0m\u001b[0mentailment\u001b[0m\u001b[0;34m(\u001b[0m\u001b[0;34m)\u001b[0m\u001b[0;34m\u001b[0m\u001b[0;34m\u001b[0m\u001b[0m\n\u001b[1;32m      6\u001b[0m \u001b[0;32mif\u001b[0m \u001b[0mans\u001b[0m\u001b[0;34m:\u001b[0m \u001b[0mprint\u001b[0m\u001b[0;34m(\u001b[0m\u001b[0;34m\"The Knowledgebase entails Query .\"\u001b[0m\u001b[0;34m)\u001b[0m\u001b[0;34m\u001b[0m\u001b[0;34m\u001b[0m\u001b[0m\n",
      "\u001b[0;32m<ipython-input-2-64f2768757ff>\u001b[0m in \u001b[0;36minput_rules\u001b[0;34m()\u001b[0m\n\u001b[1;32m      1\u001b[0m \u001b[0;32mdef\u001b[0m \u001b[0minput_rules\u001b[0m\u001b[0;34m(\u001b[0m\u001b[0;34m)\u001b[0m\u001b[0;34m:\u001b[0m\u001b[0;34m\u001b[0m\u001b[0;34m\u001b[0m\u001b[0m\n\u001b[1;32m      2\u001b[0m     \u001b[0;32mglobal\u001b[0m \u001b[0mkb\u001b[0m\u001b[0;34m,\u001b[0m\u001b[0mq\u001b[0m\u001b[0;34m\u001b[0m\u001b[0;34m\u001b[0m\u001b[0m\n\u001b[0;32m----> 3\u001b[0;31m     \u001b[0mkb\u001b[0m\u001b[0;34m=\u001b[0m\u001b[0minput\u001b[0m\u001b[0;34m(\u001b[0m\u001b[0;34m\"Enter rule : \"\u001b[0m\u001b[0;34m)\u001b[0m\u001b[0;34m\u001b[0m\u001b[0;34m\u001b[0m\u001b[0m\n\u001b[0m\u001b[1;32m      4\u001b[0m     \u001b[0mq\u001b[0m\u001b[0;34m=\u001b[0m\u001b[0minput\u001b[0m\u001b[0;34m(\u001b[0m\u001b[0;34m\"Enter the Query : \"\u001b[0m\u001b[0;34m)\u001b[0m\u001b[0;34m\u001b[0m\u001b[0;34m\u001b[0m\u001b[0m\n",
      "\u001b[0;32m/opt/conda/lib/python3.7/site-packages/ipykernel/kernelbase.py\u001b[0m in \u001b[0;36mraw_input\u001b[0;34m(self, prompt)\u001b[0m\n\u001b[1;32m    853\u001b[0m         \u001b[0;32mif\u001b[0m \u001b[0;32mnot\u001b[0m \u001b[0mself\u001b[0m\u001b[0;34m.\u001b[0m\u001b[0m_allow_stdin\u001b[0m\u001b[0;34m:\u001b[0m\u001b[0;34m\u001b[0m\u001b[0;34m\u001b[0m\u001b[0m\n\u001b[1;32m    854\u001b[0m             raise StdinNotImplementedError(\n\u001b[0;32m--> 855\u001b[0;31m                 \u001b[0;34m\"raw_input was called, but this frontend does not support input requests.\"\u001b[0m\u001b[0;34m\u001b[0m\u001b[0;34m\u001b[0m\u001b[0m\n\u001b[0m\u001b[1;32m    856\u001b[0m             )\n\u001b[1;32m    857\u001b[0m         return self._input_request(str(prompt),\n",
      "\u001b[0;31mStdinNotImplementedError\u001b[0m: raw_input was called, but this frontend does not support input requests."
     ]
    }
   ],
   "source": [
    "def _eval(i,val1,val2):\n",
    "    if i=='^': return val2 and val1 \n",
    "    return val2 or val1\n",
    "input_rules()\n",
    "ans=entailment()\n",
    "if ans: print(\"The Knowledgebase entails Query .\")\n",
    "else: print(\"The Knowledgebase doesnt enatils Query.\")"
   ]
  }
 ],
 "metadata": {
  "kernelspec": {
   "display_name": "Python 3",
   "language": "python",
   "name": "python3"
  },
  "language_info": {
   "codemirror_mode": {
    "name": "ipython",
    "version": 3
   },
   "file_extension": ".py",
   "mimetype": "text/x-python",
   "name": "python",
   "nbconvert_exporter": "python",
   "pygments_lexer": "ipython3",
   "version": "3.7.6"
  },
  "papermill": {
   "duration": 5.333535,
   "end_time": "2020-11-17T11:05:44.915998",
   "environment_variables": {},
   "exception": null,
   "input_path": "__notebook__.ipynb",
   "output_path": "__notebook__.ipynb",
   "parameters": {},
   "start_time": "2020-11-17T11:05:39.582463",
   "version": "2.1.0"
  }
 },
 "nbformat": 4,
 "nbformat_minor": 4
}
